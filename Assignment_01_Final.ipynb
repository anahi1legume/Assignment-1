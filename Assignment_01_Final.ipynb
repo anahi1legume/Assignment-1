{
 "cells": [
  {
   "cell_type": "markdown",
   "metadata": {
    "id": "GVZvgDpUQlV9"
   },
   "source": [
    "Student first name: Anahi\n",
    "\n",
    "\n",
    "---\n",
    "\n",
    "\n",
    "Student last name: Bautista\n",
    "\n",
    "\n",
    "---\n",
    "\n",
    "\n",
    "Student number: "
   ]
  },
  {
   "cell_type": "markdown",
   "metadata": {
    "id": "fHsCpyEiSd26"
   },
   "source": [
    "# Assignment 1 - total points 15"
   ]
  },
  {
   "cell_type": "markdown",
   "metadata": {
    "id": "GJVz-3fjiSnx"
   },
   "source": [
    "1. (total 2 points) Chapter 1 [Hands-On Data Preprocessing in Python](https://www.packtpub.com/product/hands-on-data-preprocessing-in-python/9781801072137)\n",
    "\n",
    "##### Excercise 3\n",
    "For this exercise you need to use a new dataset: billboard.csv. Visit https://www.billboard.com/charts/hot-100 and see the latest song rankings of the day. This dataset presents information and ranking of 317 song tracks in 80 columns. The first four columns are artist, track, time, and date_e. The first columns are intuitive descriptions of song tracks. The column date_e shows the date that the songs entered the hot-100 list. The rest of 76 columns are songs ranking at the end of each weeks from 'w1' to 'w76'. Download and read this dataset using pandas and answer the following questions.\n"
   ]
  },
  {
   "cell_type": "code",
   "execution_count": null,
   "metadata": {
    "id": "ZbwpTMgRjUMS"
   },
   "outputs": [],
   "source": [
    "import pandas as pd\n",
    "import matplotlib.pyplot as plt\n",
    "\n",
    "bb_df = pd.read_csv('https://raw.githubusercontent.com/PacktPublishing/Hands-On-Data-Preprocessing-in-Python/main/Chapter01/billboard.csv')\n",
    "bb_df.head()"
   ]
  },
  {
   "cell_type": "markdown",
   "metadata": {
    "id": "oNES6gf0jiua"
   },
   "source": [
    "    a)\t(1point) Write one line of code that gives you a great idea of how many null values each column has. If there are any columns that have no non-null values drop them."
   ]
  },
  {
   "cell_type": "code",
   "execution_count": null,
   "metadata": {
    "id": "AcZ6c7aulJAx"
   },
   "outputs": [],
   "source": [
    "# Your code\n",
    "\n",
    "#check nulls per column\n",
    "print(bb_df.isnull().sum())\n",
    "\n",
    "#drop columns with all null values\n",
    "bb_df.dropna(axis=1, how='all', inplace=True)\n"
   ]
  },
  {
   "cell_type": "markdown",
   "metadata": {
    "id": "Q0svu_wfTL2I"
   },
   "source": [
    "    b)\t(1 point) With a for loop, draw and study the values in each of the remaining W columns. (hint for each w column draw histogram and box plot)"
   ]
  },
  {
   "cell_type": "code",
   "execution_count": null,
   "metadata": {
    "id": "a0LnRO76lvm-"
   },
   "outputs": [],
   "source": [
    "# Your code\n",
    "\n",
    "#getting only the 'w' columns\n",
    "w_columns = [col for col in bb_df.columns if col.startswith('w')]\n",
    "\n",
    "#loop and plot\n",
    "for col in w_columns:\n",
    "    plt.figure(figsize=(12, 5))\n",
    "    \n",
    "    # Histogram\n",
    "    plt.subplot(1, 2, 1)\n",
    "    bb_df[col].dropna().hist(bins=20)\n",
    "    plt.title(f'Histogram of {col}')\n",
    "    plt.xlabel('Ranking')\n",
    "    plt.ylabel('Frequency')\n",
    "    \n",
    "    # Boxplot\n",
    "    plt.subplot(1, 2, 2)\n",
    "    bb_df[[col]].boxplot()\n",
    "    plt.title(f'Boxplot of {col}')\n",
    "    plt.ylabel('Ranking')\n",
    "    \n",
    "    plt.tight_layout()\n",
    "    plt.show()\n"
   ]
  },
  {
   "cell_type": "markdown",
   "metadata": {
    "id": "8t7K1xFETSbR"
   },
   "source": [
    "\n",
    "\n",
    "---\n",
    "\n",
    "\n",
    "\n",
    "---\n",
    "\n",
    "\n",
    "\n",
    "---\n",
    "\n"
   ]
  },
  {
   "cell_type": "markdown",
   "metadata": {
    "id": "E3i__awRpTKH"
   },
   "source": [
    "2. (total 4 points)Chapter 3 [Hands-On Data Preprocessing in Python](https://www.packtpub.com/product/hands-on-data-preprocessing-in-python/9781801072137)\n",
    "\n",
    "##### Excercise 4\n",
    "\n",
    "For this exercise, we are going to use fatal-police-shootings-data.csv. There are a lot of debates, discussions, dialogues, and protests happening in the US surrounding police killings. The Washington Post has been collecting data on all fatal police shootings in the US. The dataset available to the government and the public alike has date, age, gender, race, location, and other situational information of these fatal police shootings. You can read more about this data on https://www.washingtonpost.com/graphics/investigations/police-shootings-database/, and you can download the last version of the data from https://github.com/washingtonpost/data-police-shootings\n"
   ]
  },
  {
   "cell_type": "code",
   "execution_count": null,
   "metadata": {
    "id": "6bmKbJx9uWuN"
   },
   "outputs": [],
   "source": [
    "import pandas as pd\n",
    "\n",
    "incident_df = pd.read_csv('https://raw.githubusercontent.com/PacktPublishing/Hands-On-Data-Preprocessing-in-Python/main/Chapter03/fatal-police-shootings-data.csv')\n",
    "incident_df"
   ]
  },
  {
   "cell_type": "markdown",
   "metadata": {
    "id": "_bPMhaLzugcl"
   },
   "source": [
    "    a)\t(1 point) What is the best definition of the data object for this dataset?"
   ]
  },
  {
   "cell_type": "code",
   "execution_count": null,
   "metadata": {
    "id": "7e_aEQ02ukWE"
   },
   "outputs": [],
   "source": [
    "# Your answer\n",
    "\n",
    "#The data object in this dataset is a **single fatal police shooting incident**. \n",
    "#Each row corresponds to one individual who was fatally shot by police\n",
    "#With detailed information about the person (age, race, gender)\n",
    "#The incident (date, city, state)\n",
    "#Contextual factors (whether the individual was armed, signs of mental illness, use of body camera)\n"
   ]
  },
  {
   "cell_type": "markdown",
   "metadata": {
    "id": "v5PR2904urJ6"
   },
   "source": [
    "    b)\t(1 point)Are there any attributes in the data that only have one value? Use .unique() function to check. If there are remove them from the data and update the definition of the data object.\n",
    "    "
   ]
  },
  {
   "cell_type": "code",
   "execution_count": null,
   "metadata": {
    "id": "I0oEmBfaTdrU"
   },
   "outputs": [],
   "source": [
    "# Your answer\n",
    "\n",
    "# Check which columns have only one unique value (excluding NaN)\n",
    "for col in fps_df.columns:\n",
    "    unique_vals = fps_df[col].dropna().unique()\n",
    "    if len(unique_vals) == 1:\n",
    "        print(f\"Column '{col}' has only one unique value: {unique_vals[0]}\")"
   ]
  },
  {
   "cell_type": "code",
   "execution_count": null,
   "metadata": {},
   "outputs": [],
   "source": [
    "# Your answer\n",
    "\n",
    "#Column 'name' has only one unique value: TK\n",
    "\n",
    "fps_df.drop(columns=['name'], inplace=True)"
   ]
  },
  {
   "cell_type": "code",
   "execution_count": null,
   "metadata": {},
   "outputs": [],
   "source": [
    "#After removing attributes that had only one unique value, the definition of the data object remains:  \n",
    "#Each row represents a **unique fatal police shooting incident**\n",
    "#containing information about the individual who was shot, \n",
    "#the context of the incident, and demographic details. \n",
    "#Columns that were constant across all rows were removed \n",
    "#as they do not contribute any variation or insight for analysis."
   ]
  },
  {
   "cell_type": "markdown",
   "metadata": {
    "id": "R7fJbGYJu8t9"
   },
   "source": [
    "    c)\t(1 point) What type of values do the remaining attributes carry?\n",
    "   "
   ]
  },
  {
   "cell_type": "code",
   "execution_count": null,
   "metadata": {
    "id": "SqaG4JJyvCxv"
   },
   "outputs": [],
   "source": [
    "# Your answer\n",
    "fps_df.info()\n",
    "\n",
    "The remaining attributes in the dataset include:\n",
    "\n",
    "- **Categorical (object)**:\n",
    "  - `gender`, `race`, `armed`, `city`, `state`, `manner_of_death`, `threat_level`, `flee`, `body_camera`\n",
    "- **Boolean or binary**:\n",
    "  - `signs_of_mental_illness`, `body_camera`\n",
    "- **Numerical (int/float)**:\n",
    "  - `age`, `id`\n",
    "- **Date**:\n",
    "  - `date` (originally stored as an object/string, but can be converted to `datetime`)\n",
    "  \n",
    "These attributes capture a mix of demographic, geographical, temporal, and situational data."
   ]
  },
  {
   "cell_type": "markdown",
   "metadata": {
    "id": "uBKRf9GWvWi4"
   },
   "source": [
    "    d)\t(1 point)Compare the statistical information of the numerical attributes and see if any of them are a candidate for data redundancy. (hint you need to find corolation on numerical attribiutes)"
   ]
  },
  {
   "cell_type": "code",
   "execution_count": null,
   "metadata": {
    "id": "w7lhqrMxvaab"
   },
   "outputs": [],
   "source": [
    "# Your answer\n",
    "\n",
    "numerical_df = fps_df.select_dtypes(include=['int64', 'float64'])\n",
    "print(numerical_df.columns)"
   ]
  },
  {
   "cell_type": "code",
   "execution_count": null,
   "metadata": {},
   "outputs": [],
   "source": [
    "print(numerical_df.describe())"
   ]
  },
  {
   "cell_type": "code",
   "execution_count": null,
   "metadata": {},
   "outputs": [],
   "source": [
    "correlation_matrix = numerical_df.corr()\n",
    "print(correlation_matrix)"
   ]
  },
  {
   "cell_type": "code",
   "execution_count": null,
   "metadata": {},
   "outputs": [],
   "source": [
    "import seaborn as sns\n",
    "\n",
    "plt.figure(figsize=(8, 6))\n",
    "sns.heatmap(correlation_matrix, annot=True, cmap='coolwarm')\n",
    "plt.title(\"Correlation Matrix of Numerical Attributes\")\n",
    "plt.show()"
   ]
  },
  {
   "cell_type": "markdown",
   "metadata": {
    "id": "ZFA_fUU_Towb"
   },
   "source": [
    "\n",
    "\n",
    "---\n",
    "\n",
    "\n",
    "\n",
    "---\n",
    "\n",
    "\n",
    "\n",
    "---\n",
    "\n"
   ]
  },
  {
   "cell_type": "markdown",
   "metadata": {
    "id": "PhOOVYRZwrbz"
   },
   "source": [
    "**3**. (total 1 points)Chapter 4 [Hands-On Data Preprocessing in Python](https://www.packtpub.com/product/hands-on-data-preprocessing-in-python/9781801072137)\n",
    "\n",
    "##### Excercise 1\n",
    "(1 point)In your own words, describe the difference between a dataset and a database.  \n"
   ]
  },
  {
   "cell_type": "code",
   "execution_count": null,
   "metadata": {
    "id": "qwTJ8vg1wxHb"
   },
   "outputs": [],
   "source": [
    "# Your answer\n",
    "  \n",
    "# A **dataset** is like a single Excel sheet, organized in a table with rows and columns \n",
    "\n",
    "# A **database** is organized sheets, where you can use tools to retrieve and manipulate data\n"
   ]
  },
  {
   "cell_type": "markdown",
   "metadata": {
    "id": "thnvKv0UTuEp"
   },
   "source": [
    "\n",
    "\n",
    "---\n",
    "\n",
    "\n",
    "\n",
    "---\n",
    "\n",
    "\n",
    "\n",
    "---\n",
    "\n"
   ]
  },
  {
   "cell_type": "markdown",
   "metadata": {
    "id": "lWgb2mbQWww6"
   },
   "source": [
    "4. (total 2 points)Chapter 7 [Business Analytics, 2nd Edition](https://www.mheducation.com/highered/product/business-analytics-lertwachara-chen/M9781264302802.html)\n",
    "\n",
    "##### Excercise 7.1\n",
    "\n",
    "1. Using data from 50 workers, a researcher estimate\n",
    "\n",
    "$$ \\text{Wage} = b_0 + b_1 \\text{Education} + b_2 \\text{Experience} + b_3 \\text{Age}  $$\n",
    "where Wage is the hourly wage rate and Education, Experience, and Age are the years of higher education, the years of experience, and the age of the worker, respecttively. A portion of regression result is shown in the follwing table."
   ]
  },
  {
   "cell_type": "markdown",
   "metadata": {
    "id": "z-bau79dYwLZ"
   },
   "source": [
    "![image.png](data:image/png;base64,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)"
   ]
  },
  {
   "cell_type": "markdown",
   "metadata": {
    "id": "CLJNuA16YxhG"
   },
   "source": [
    "    a)    (1point) what are the estimate for b1, b2"
   ]
  },
  {
   "cell_type": "code",
   "execution_count": null,
   "metadata": {
    "id": "LNVSuM9s8EQF"
   },
   "outputs": [],
   "source": [
    "# Your answer\n",
    "# From the regression table:\n",
    "#b1​ (Education) = 1.44\n",
    "#b2​ (Experience) = 0.45\n"
   ]
  },
  {
   "cell_type": "markdown",
   "metadata": {
    "id": "r61caVjg8F7F"
   },
   "source": [
    "    b)    (1point) Predict the hourly wage rate for 30-year-old worker with four year of higher education and three years of experience."
   ]
  },
  {
   "cell_type": "code",
   "execution_count": null,
   "metadata": {
    "id": "2Dd9z8At8lUT"
   },
   "outputs": [],
   "source": [
    "# Your answer\n",
    "# Wage=7.87+(1.44⋅4)+(0.45⋅3)+(−0.01⋅30)\n",
    "# Predicted wage = $14.68/hour"
   ]
  },
  {
   "cell_type": "markdown",
   "metadata": {
    "id": "Ui0-pJvGZTip"
   },
   "source": [
    "\n",
    "\n",
    "---\n",
    "\n",
    "\n",
    "\n",
    "---\n",
    "\n",
    "\n",
    "\n",
    "---\n",
    "\n"
   ]
  },
  {
   "cell_type": "markdown",
   "metadata": {
    "id": "guI-gDpoZVBL"
   },
   "source": [
    "5. (total 3 points)Chapter 7 [Business Analytics, 2nd Edition](https://www.mheducation.com/highered/product/business-analytics-lertwachara-chen/M9781264302802.html)\n",
    "\n",
    "##### Excercise 7.1\n",
    "\n",
    "6. The director of graduate admission at a large university is analyzing the relationship between scores on the math portion of Graduate Record Examination (GRE) and subsequent performace in graduate school, as measured by student`s avrage (GPA). the accompaanying data file shows GPA and GRE of 24 students."
   ]
  },
  {
   "cell_type": "code",
   "execution_count": null,
   "metadata": {
    "id": "ON208qhc9vyF"
   },
   "outputs": [],
   "source": [
    "import numpy as np\n",
    "import pandas as pd\n",
    "gpaDf =  pd.read_excel(\"https://www.dropbox.com/scl/fi/24jfn2u4rsn6e45bvzkrs/GPA.xlsx?rlkey=9ecqtc90bmntcsucdy8gzyt24&dl=1\")\n",
    "gpaDf"
   ]
  },
  {
   "cell_type": "markdown",
   "metadata": {
    "id": "6x5FlNGI-jEv"
   },
   "source": [
    "    a) (2points) Find regression model equation for the model: GPA = b0 + B1 GRE"
   ]
  },
  {
   "cell_type": "code",
   "execution_count": null,
   "metadata": {
    "id": "hWs38d7C-xmp"
   },
   "outputs": [],
   "source": [
    "# https://www.statsmodels.org/stable/index.html\n",
    "import statsmodels.api as sm\n",
    "# Your answer\n",
    "# GPA=0.426+0.0041⋅GRE"
   ]
  },
  {
   "cell_type": "markdown",
   "metadata": {
    "id": "cQOtcbr6_DJJ"
   },
   "source": [
    "    b) (1 point) what is a student`s prediction GPA if he/she scored 710 on math portion of GRE"
   ]
  },
  {
   "cell_type": "code",
   "execution_count": null,
   "metadata": {
    "id": "7ZmNIPdS_RNX"
   },
   "outputs": [],
   "source": [
    "# Your answer\n",
    "#3.34"
   ]
  },
  {
   "cell_type": "markdown",
   "metadata": {
    "id": "e27WSEpLT-aN"
   },
   "source": [
    "\n",
    "\n",
    "---\n",
    "\n",
    "\n",
    "\n",
    "---\n",
    "\n",
    "\n",
    "\n",
    "---\n",
    "\n"
   ]
  },
  {
   "cell_type": "markdown",
   "metadata": {
    "id": "zslNlR2m_uH2"
   },
   "source": [
    "6. (totla 3 points)Chapter 7 [Business Analytics, 2nd Edition](https://www.mheducation.com/highered/product/business-analytics-lertwachara-chen/M9781264302802.html)\n",
    "\n",
    "##### Excercise 7.1\n",
    "\n",
    "10. The maintenance manager at a trucking company wants to build a regression model to forcast the time unyil the first engine overhaul(Time in years) based on four predictor variables for 25 trucks:\n",
    "    1. anual miles driven (Miles in 1000s)\n",
    "    2. avrage load weight (Load in tons)\n",
    "    3. average driving speed (Speed in mph)\n",
    "    4. oil change interval (Oil in 1000s of miles)."
   ]
  },
  {
   "cell_type": "code",
   "execution_count": null,
   "metadata": {
    "id": "AqTqh-LnBKUP"
   },
   "outputs": [],
   "source": [
    "import numpy as np\n",
    "import pandas as pd\n",
    "engineDf =  pd.read_excel(\"https://www.dropbox.com/scl/fi/dcoz9yw3f8yywtzy82f4z/Engine.xlsx?rlkey=n53hfjjsrddywktksj156jra5&dl=1\")\n",
    "engineDf.head()"
   ]
  },
  {
   "cell_type": "markdown",
   "metadata": {
    "id": "QdxW47DjBZ6W"
   },
   "source": [
    "    a) (2 point)find model regression equation (use all four predictor variables)"
   ]
  },
  {
   "cell_type": "code",
   "execution_count": null,
   "metadata": {
    "id": "KL5hchlsBoT7"
   },
   "outputs": [],
   "source": [
    "# your answer\n",
    "# https://www.statsmodels.org/stable/index.html\n",
    "import statsmodels.api as sm\n",
    "# Time=13.434−0.0896⋅Miles−0.0732⋅Load+0.0048⋅Speed−0.0297⋅Oil\n",
    "# Miles = Annual miles driven (in 1,000s)\n",
    "# Load = Average load in tons\n",
    "# Speed = Average speed in mph\n",
    "# Oil = Oil change interval (in 1,000s of miles)"
   ]
  },
  {
   "cell_type": "markdown",
   "metadata": {
    "id": "3B02wLhgB4JC"
   },
   "source": [
    "    b) (1point) Predict the time before the first engine overhaul for particular truck driven 60000 miles per year with an average load of 22 tons, an average driving speed of 57 mph, and 18000 miles between oil changes."
   ]
  },
  {
   "cell_type": "code",
   "execution_count": null,
   "metadata": {
    "id": "7baywaOsCW89"
   },
   "outputs": [],
   "source": [
    "# Your answer\n",
    "# Predicted time until first engine overhaul ≈ 6.19 years"
   ]
  },
  {
   "cell_type": "markdown",
   "metadata": {},
   "source": [
    "### ✅ Extra 5 Points\n",
    "\n",
    "To earn these additional points, make sure you:\n",
    "\n",
    "- Register your model in the registry group using the format:  \n",
    "  `<lastName>_<studentNumber>_<modelName>`\n",
    "- Ensure the registered model includes:\n",
    "  - A proper **transformer**\n",
    "  - A working **main predictor**\n",
    "- Confirm that the model can be called through the FastAPI `/dashboard` endpoint using the `predict` function.\n",
    "\n",
    "> **Note:** These are bonus points that can contribute to improving your final course grade.\n"
   ]
  },
  {
   "cell_type": "code",
   "execution_count": null,
   "metadata": {},
   "outputs": [],
   "source": []
  }
 ],
 "metadata": {
  "colab": {
   "provenance": []
  },
  "kernelspec": {
   "display_name": "Python 3 (ipykernel)",
   "language": "python",
   "name": "python3"
  },
  "language_info": {
   "codemirror_mode": {
    "name": "ipython",
    "version": 3
   },
   "file_extension": ".py",
   "mimetype": "text/x-python",
   "name": "python",
   "nbconvert_exporter": "python",
   "pygments_lexer": "ipython3",
   "version": "3.13.0"
  }
 },
 "nbformat": 4,
 "nbformat_minor": 4
}
